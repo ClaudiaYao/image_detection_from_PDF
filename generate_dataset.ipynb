{
 "cells": [
  {
   "cell_type": "code",
   "execution_count": 33,
   "metadata": {},
   "outputs": [
    {
     "name": "stdout",
     "output_type": "stream",
     "text": [
      "The autoreload extension is already loaded. To reload it, use:\n",
      "  %reload_ext autoreload\n"
     ]
    }
   ],
   "source": [
    "\n",
    "# ensure that the imported .py file will get auto imported and updated whenever there is a change\n",
    "%load_ext autoreload\n",
    "%autoreload 2"
   ]
  },
  {
   "cell_type": "code",
   "execution_count": 34,
   "metadata": {},
   "outputs": [],
   "source": [
    "\n",
    "import string\n",
    "import fitz\n",
    "import sys\n",
    "import os\n",
    "import glob\n"
   ]
  },
  {
   "cell_type": "code",
   "execution_count": 36,
   "metadata": {},
   "outputs": [],
   "source": [
    "def convert_pdf_to_image(pdf_path, pdf_file, saved_path):\n",
    "    \n",
    "    if not os.path.exists(saved_path):\n",
    "        os.mkdir(saved_path)\n",
    "    else:\n",
    "        files = glob.glob('saved_path/*')\n",
    "        for f in files:\n",
    "            os.remove(f)\n",
    "\n",
    "    try:\n",
    "        fitz.TOOLS.mupdf_warnings()  # empty the problem message container\n",
    "        doc = fitz.open(pdf_path + \"/\" + pdf_file)\n",
    "        warnings = fitz.TOOLS.mupdf_warnings()\n",
    "        if warnings:\n",
    "            print(warnings)\n",
    "            raise RuntimeError()\n",
    "\n",
    "        for page in doc:  # iterate through the pages\n",
    "            pix = page.get_pixmap()  # render page to an image\n",
    "            pix.save(saved_path + \"/\" + f\"{pdf_file[:-4]}-{page.number}.png\")  # store image as a PNG\n",
    "        return \n",
    "\n",
    "    except:\n",
    "        print(\"error when opening the pdf file {}\".format(pdf_file))\n",
    "        return None"
   ]
  },
  {
   "cell_type": "code",
   "execution_count": 37,
   "metadata": {},
   "outputs": [
    {
     "data": {
      "text/plain": [
       "'/Users/evansun/Documents/Claudia/object_detection'"
      ]
     },
     "metadata": {},
     "output_type": "display_data"
    }
   ],
   "source": [
    "cur_path = os.getcwd()\n",
    "display(cur_path)\n",
    "\n",
    "data_path = cur_path + \"/data\"\n",
    "converted_path = cur_path + \"/converted\"\n",
    "\n",
    "if not os.path.exists(converted_path):\n",
    "    os.mkdir(converted_path)\n"
   ]
  },
  {
   "cell_type": "code",
   "execution_count": 39,
   "metadata": {},
   "outputs": [
    {
     "name": "stdout",
     "output_type": "stream",
     "text": [
      "MuPDF error: syntax error: unknown keyword: 'pagesize'\n",
      "\n",
      "MuPDF error: syntax error: unknown keyword: 'width'\n",
      "\n",
      "MuPDF error: syntax error: unknown keyword: '614.295pt'\n",
      "\n",
      "MuPDF error: syntax error: unknown keyword: 'height'\n",
      "\n",
      "MuPDF error: syntax error: unknown keyword: '794.96999pt'\n",
      "\n",
      "error when opening the pdf file .DS_Store\n"
     ]
    }
   ],
   "source": [
    "dir = os.listdir(data_path)\n",
    "for file in dir:\n",
    "   pdf_name = file\n",
    "   convert_pdf_to_image(data_path, pdf_name, converted_path)"
   ]
  }
 ],
 "metadata": {
  "kernelspec": {
   "display_name": "Python 3",
   "language": "python",
   "name": "python3"
  },
  "language_info": {
   "codemirror_mode": {
    "name": "ipython",
    "version": 3
   },
   "file_extension": ".py",
   "mimetype": "text/x-python",
   "name": "python",
   "nbconvert_exporter": "python",
   "pygments_lexer": "ipython3",
   "version": "3.11.4"
  }
 },
 "nbformat": 4,
 "nbformat_minor": 2
}
